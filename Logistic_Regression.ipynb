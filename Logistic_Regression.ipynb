{
  "nbformat": 4,
  "nbformat_minor": 0,
  "metadata": {
    "colab": {
      "provenance": [],
      "include_colab_link": true
    },
    "kernelspec": {
      "name": "python3",
      "display_name": "Python 3"
    },
    "language_info": {
      "name": "python"
    }
  },
  "cells": [
    {
      "cell_type": "markdown",
      "metadata": {
        "id": "view-in-github",
        "colab_type": "text"
      },
      "source": [
        "<a href=\"https://colab.research.google.com/github/Princekumarmehta/Machine_learning_lab/blob/main/Logistic_Regression.ipynb\" target=\"_parent\"><img src=\"https://colab.research.google.com/assets/colab-badge.svg\" alt=\"Open In Colab\"/></a>"
      ]
    },
    {
      "cell_type": "markdown",
      "source": [
        "#importing the libraries\n"
      ],
      "metadata": {
        "id": "kI6oTAv3as38"
      }
    },
    {
      "cell_type": "code",
      "execution_count": null,
      "metadata": {
        "id": "VaMovCjI_Z_D"
      },
      "outputs": [],
      "source": [
        "import numpy as np\n",
        "import matplotlib.pyplot as plt\n",
        "import pandas as pd"
      ]
    },
    {
      "cell_type": "code",
      "source": [
        "#retring the dataset\n",
        "dataset = pd.read_csv('/content/Social_Network_Ads.csv')\n",
        "#putting x and y values\n",
        "X = dataset.iloc[:, :-1].values\n",
        "y = dataset.iloc[:, -1].values"
      ],
      "metadata": {
        "id": "rF41mmC3KMdU"
      },
      "execution_count": null,
      "outputs": []
    },
    {
      "cell_type": "code",
      "source": [
        "from sklearn.model_selection import train_test_split\n",
        "X_train,X_test,y_train,y_test = train_test_split(X,y,test_size= 0.25,random_state = 0)"
      ],
      "metadata": {
        "id": "kWZHmveNLF2U"
      },
      "execution_count": null,
      "outputs": []
    },
    {
      "cell_type": "code",
      "source": [
        "from sklearn.preprocessing import StandardScaler\n",
        "sc = StandardScaler()\n",
        "X_train = sc.fit_transform(X_train)\n",
        "X_test = sc.transform(X_test)\n"
      ],
      "metadata": {
        "id": "U0gmiYwROrs9"
      },
      "execution_count": null,
      "outputs": []
    },
    {
      "cell_type": "code",
      "source": [
        "from sklearn.linear_model import LogisticRegression\n",
        "classifier = LogisticRegression(random_state=0)\n",
        "classifier.fit(X_train,y_train)"
      ],
      "metadata": {
        "colab": {
          "base_uri": "https://localhost:8080/",
          "height": 75
        },
        "id": "0EF1tbeZPQFG",
        "outputId": "dbc9030e-acb5-4884-dc58-3f1bcbea9ceb"
      },
      "execution_count": null,
      "outputs": [
        {
          "output_type": "execute_result",
          "data": {
            "text/plain": [
              "LogisticRegression(random_state=0)"
            ],
            "text/html": [
              "<style>#sk-container-id-1 {color: black;background-color: white;}#sk-container-id-1 pre{padding: 0;}#sk-container-id-1 div.sk-toggleable {background-color: white;}#sk-container-id-1 label.sk-toggleable__label {cursor: pointer;display: block;width: 100%;margin-bottom: 0;padding: 0.3em;box-sizing: border-box;text-align: center;}#sk-container-id-1 label.sk-toggleable__label-arrow:before {content: \"▸\";float: left;margin-right: 0.25em;color: #696969;}#sk-container-id-1 label.sk-toggleable__label-arrow:hover:before {color: black;}#sk-container-id-1 div.sk-estimator:hover label.sk-toggleable__label-arrow:before {color: black;}#sk-container-id-1 div.sk-toggleable__content {max-height: 0;max-width: 0;overflow: hidden;text-align: left;background-color: #f0f8ff;}#sk-container-id-1 div.sk-toggleable__content pre {margin: 0.2em;color: black;border-radius: 0.25em;background-color: #f0f8ff;}#sk-container-id-1 input.sk-toggleable__control:checked~div.sk-toggleable__content {max-height: 200px;max-width: 100%;overflow: auto;}#sk-container-id-1 input.sk-toggleable__control:checked~label.sk-toggleable__label-arrow:before {content: \"▾\";}#sk-container-id-1 div.sk-estimator input.sk-toggleable__control:checked~label.sk-toggleable__label {background-color: #d4ebff;}#sk-container-id-1 div.sk-label input.sk-toggleable__control:checked~label.sk-toggleable__label {background-color: #d4ebff;}#sk-container-id-1 input.sk-hidden--visually {border: 0;clip: rect(1px 1px 1px 1px);clip: rect(1px, 1px, 1px, 1px);height: 1px;margin: -1px;overflow: hidden;padding: 0;position: absolute;width: 1px;}#sk-container-id-1 div.sk-estimator {font-family: monospace;background-color: #f0f8ff;border: 1px dotted black;border-radius: 0.25em;box-sizing: border-box;margin-bottom: 0.5em;}#sk-container-id-1 div.sk-estimator:hover {background-color: #d4ebff;}#sk-container-id-1 div.sk-parallel-item::after {content: \"\";width: 100%;border-bottom: 1px solid gray;flex-grow: 1;}#sk-container-id-1 div.sk-label:hover label.sk-toggleable__label {background-color: #d4ebff;}#sk-container-id-1 div.sk-serial::before {content: \"\";position: absolute;border-left: 1px solid gray;box-sizing: border-box;top: 0;bottom: 0;left: 50%;z-index: 0;}#sk-container-id-1 div.sk-serial {display: flex;flex-direction: column;align-items: center;background-color: white;padding-right: 0.2em;padding-left: 0.2em;position: relative;}#sk-container-id-1 div.sk-item {position: relative;z-index: 1;}#sk-container-id-1 div.sk-parallel {display: flex;align-items: stretch;justify-content: center;background-color: white;position: relative;}#sk-container-id-1 div.sk-item::before, #sk-container-id-1 div.sk-parallel-item::before {content: \"\";position: absolute;border-left: 1px solid gray;box-sizing: border-box;top: 0;bottom: 0;left: 50%;z-index: -1;}#sk-container-id-1 div.sk-parallel-item {display: flex;flex-direction: column;z-index: 1;position: relative;background-color: white;}#sk-container-id-1 div.sk-parallel-item:first-child::after {align-self: flex-end;width: 50%;}#sk-container-id-1 div.sk-parallel-item:last-child::after {align-self: flex-start;width: 50%;}#sk-container-id-1 div.sk-parallel-item:only-child::after {width: 0;}#sk-container-id-1 div.sk-dashed-wrapped {border: 1px dashed gray;margin: 0 0.4em 0.5em 0.4em;box-sizing: border-box;padding-bottom: 0.4em;background-color: white;}#sk-container-id-1 div.sk-label label {font-family: monospace;font-weight: bold;display: inline-block;line-height: 1.2em;}#sk-container-id-1 div.sk-label-container {text-align: center;}#sk-container-id-1 div.sk-container {/* jupyter's `normalize.less` sets `[hidden] { display: none; }` but bootstrap.min.css set `[hidden] { display: none !important; }` so we also need the `!important` here to be able to override the default hidden behavior on the sphinx rendered scikit-learn.org. See: https://github.com/scikit-learn/scikit-learn/issues/21755 */display: inline-block !important;position: relative;}#sk-container-id-1 div.sk-text-repr-fallback {display: none;}</style><div id=\"sk-container-id-1\" class=\"sk-top-container\"><div class=\"sk-text-repr-fallback\"><pre>LogisticRegression(random_state=0)</pre><b>In a Jupyter environment, please rerun this cell to show the HTML representation or trust the notebook. <br />On GitHub, the HTML representation is unable to render, please try loading this page with nbviewer.org.</b></div><div class=\"sk-container\" hidden><div class=\"sk-item\"><div class=\"sk-estimator sk-toggleable\"><input class=\"sk-toggleable__control sk-hidden--visually\" id=\"sk-estimator-id-1\" type=\"checkbox\" checked><label for=\"sk-estimator-id-1\" class=\"sk-toggleable__label sk-toggleable__label-arrow\">LogisticRegression</label><div class=\"sk-toggleable__content\"><pre>LogisticRegression(random_state=0)</pre></div></div></div></div></div>"
            ]
          },
          "metadata": {},
          "execution_count": 6
        }
      ]
    },
    {
      "cell_type": "code",
      "source": [
        "pred_prob = classifier.predict_proba(X_test)\n",
        "pred_prob"
      ],
      "metadata": {
        "colab": {
          "base_uri": "https://localhost:8080/"
        },
        "id": "YCVrb7kjPfbe",
        "outputId": "beb8b75d-20ca-4ae9-e3f2-b1b7ed6be162"
      },
      "execution_count": null,
      "outputs": [
        {
          "output_type": "execute_result",
          "data": {
            "text/plain": [
              "array([[0.88725351, 0.11274649],\n",
              "       [0.83324206, 0.16675794],\n",
              "       [0.80549253, 0.19450747],\n",
              "       [0.91056209, 0.08943791],\n",
              "       [0.90253903, 0.09746097],\n",
              "       [0.99212979, 0.00787021],\n",
              "       [0.9848589 , 0.0151411 ],\n",
              "       [0.26779092, 0.73220908],\n",
              "       [0.99419108, 0.00580892],\n",
              "       [0.49579544, 0.50420456],\n",
              "       [0.96395406, 0.03604594],\n",
              "       [0.97081333, 0.02918667],\n",
              "       [0.83936154, 0.16063846],\n",
              "       [0.63040685, 0.36959315],\n",
              "       [0.98450737, 0.01549263],\n",
              "       [0.66506265, 0.33493735],\n",
              "       [0.72016534, 0.27983466],\n",
              "       [0.98774666, 0.01225334],\n",
              "       [0.01139953, 0.98860047],\n",
              "       [0.95799724, 0.04200276],\n",
              "       [0.91070984, 0.08929016],\n",
              "       [0.03668135, 0.96331865],\n",
              "       [0.72304389, 0.27695611],\n",
              "       [0.11787963, 0.88212037],\n",
              "       [0.99551213, 0.00448787],\n",
              "       [0.02704431, 0.97295569],\n",
              "       [0.92232099, 0.07767901],\n",
              "       [0.92371914, 0.07628086],\n",
              "       [0.80661256, 0.19338744],\n",
              "       [0.84341507, 0.15658493],\n",
              "       [0.97980137, 0.02019863],\n",
              "       [0.70700864, 0.29299136],\n",
              "       [0.06782035, 0.93217965],\n",
              "       [0.84785394, 0.15214606],\n",
              "       [0.98566324, 0.01433676],\n",
              "       [0.99652123, 0.00347877],\n",
              "       [0.98018715, 0.01981285],\n",
              "       [0.93442624, 0.06557376],\n",
              "       [0.97244034, 0.02755966],\n",
              "       [0.44947292, 0.55052708],\n",
              "       [0.93387384, 0.06612616],\n",
              "       [0.71655153, 0.28344847],\n",
              "       [0.94139491, 0.05860509],\n",
              "       [0.96051284, 0.03948716],\n",
              "       [0.19538951, 0.80461049],\n",
              "       [0.97375051, 0.02624949],\n",
              "       [0.7002962 , 0.2997038 ],\n",
              "       [0.07188441, 0.92811559],\n",
              "       [0.99116814, 0.00883186],\n",
              "       [0.14035391, 0.85964609],\n",
              "       [0.00979045, 0.99020955],\n",
              "       [0.96217391, 0.03782609],\n",
              "       [0.88084143, 0.11915857],\n",
              "       [0.58394773, 0.41605227],\n",
              "       [0.01920237, 0.98079763],\n",
              "       [0.67887409, 0.32112591],\n",
              "       [0.91662981, 0.08337019],\n",
              "       [0.95734278, 0.04265722],\n",
              "       [0.51367858, 0.48632142],\n",
              "       [0.99652752, 0.00347248],\n",
              "       [0.97962483, 0.02037517],\n",
              "       [0.06548521, 0.93451479],\n",
              "       [0.99080034, 0.00919966],\n",
              "       [0.6089113 , 0.3910887 ],\n",
              "       [0.99814664, 0.00185336],\n",
              "       [0.01837828, 0.98162172],\n",
              "       [0.96204152, 0.03795848],\n",
              "       [0.97375051, 0.02624949],\n",
              "       [0.78482933, 0.21517067],\n",
              "       [0.53552032, 0.46447968],\n",
              "       [0.40700336, 0.59299664],\n",
              "       [0.79520675, 0.20479325],\n",
              "       [0.98880303, 0.01119697],\n",
              "       [0.74469446, 0.25530554],\n",
              "       [0.93185794, 0.06814206],\n",
              "       [0.99091371, 0.00908629],\n",
              "       [0.46321694, 0.53678306],\n",
              "       [0.70589942, 0.29410058],\n",
              "       [0.2766666 , 0.7233334 ],\n",
              "       [0.11134787, 0.88865213],\n",
              "       [0.00394886, 0.99605114],\n",
              "       [0.02248034, 0.97751966],\n",
              "       [0.98696583, 0.01303417],\n",
              "       [0.98964178, 0.01035822],\n",
              "       [0.10734812, 0.89265188],\n",
              "       [0.45522288, 0.54477712],\n",
              "       [0.5969289 , 0.4030711 ],\n",
              "       [0.0050397 , 0.9949603 ],\n",
              "       [0.56296967, 0.43703033],\n",
              "       [0.66147882, 0.33852118],\n",
              "       [0.58308908, 0.41691092],\n",
              "       [0.21824871, 0.78175129],\n",
              "       [0.99149077, 0.00850923],\n",
              "       [0.99207365, 0.00792635],\n",
              "       [0.96750141, 0.03249859],\n",
              "       [0.91608066, 0.08391934],\n",
              "       [0.98628144, 0.01371856],\n",
              "       [0.52483762, 0.47516238],\n",
              "       [0.14989075, 0.85010925],\n",
              "       [0.27844761, 0.72155239]])"
            ]
          },
          "metadata": {},
          "execution_count": 7
        }
      ]
    },
    {
      "cell_type": "code",
      "source": [
        "print(classifier.predict(sc.transform([[30,87000]])))"
      ],
      "metadata": {
        "colab": {
          "base_uri": "https://localhost:8080/"
        },
        "id": "GhlVEsa0Pnsl",
        "outputId": "a01595a7-44c0-4a6c-b496-3f3571a56ae1"
      },
      "execution_count": null,
      "outputs": [
        {
          "output_type": "stream",
          "name": "stdout",
          "text": [
            "[0]\n"
          ]
        }
      ]
    },
    {
      "cell_type": "code",
      "source": [
        "y_pred = classifier.predict(X_test)\n",
        "print(np.concatenate((y_pred.reshape(len(y_pred),1),y_test.reshape(len(y_test),1)),1))"
      ],
      "metadata": {
        "colab": {
          "base_uri": "https://localhost:8080/"
        },
        "id": "UM71qCAiQSvE",
        "outputId": "047df5df-cfd0-4f88-e5a9-fb444cf7e41a"
      },
      "execution_count": null,
      "outputs": [
        {
          "output_type": "stream",
          "name": "stdout",
          "text": [
            "[[0 0]\n",
            " [0 0]\n",
            " [0 0]\n",
            " [0 0]\n",
            " [0 0]\n",
            " [0 0]\n",
            " [0 0]\n",
            " [1 1]\n",
            " [0 0]\n",
            " [1 0]\n",
            " [0 0]\n",
            " [0 0]\n",
            " [0 0]\n",
            " [0 0]\n",
            " [0 0]\n",
            " [0 0]\n",
            " [0 0]\n",
            " [0 0]\n",
            " [1 1]\n",
            " [0 0]\n",
            " [0 0]\n",
            " [1 1]\n",
            " [0 0]\n",
            " [1 1]\n",
            " [0 0]\n",
            " [1 1]\n",
            " [0 0]\n",
            " [0 0]\n",
            " [0 0]\n",
            " [0 0]\n",
            " [0 0]\n",
            " [0 1]\n",
            " [1 1]\n",
            " [0 0]\n",
            " [0 0]\n",
            " [0 0]\n",
            " [0 0]\n",
            " [0 0]\n",
            " [0 0]\n",
            " [1 1]\n",
            " [0 0]\n",
            " [0 0]\n",
            " [0 0]\n",
            " [0 0]\n",
            " [1 1]\n",
            " [0 0]\n",
            " [0 0]\n",
            " [1 1]\n",
            " [0 0]\n",
            " [1 1]\n",
            " [1 1]\n",
            " [0 0]\n",
            " [0 0]\n",
            " [0 0]\n",
            " [1 1]\n",
            " [0 1]\n",
            " [0 0]\n",
            " [0 0]\n",
            " [0 1]\n",
            " [0 0]\n",
            " [0 0]\n",
            " [1 1]\n",
            " [0 0]\n",
            " [0 1]\n",
            " [0 0]\n",
            " [1 1]\n",
            " [0 0]\n",
            " [0 0]\n",
            " [0 0]\n",
            " [0 0]\n",
            " [1 1]\n",
            " [0 0]\n",
            " [0 0]\n",
            " [0 1]\n",
            " [0 0]\n",
            " [0 0]\n",
            " [1 0]\n",
            " [0 0]\n",
            " [1 1]\n",
            " [1 1]\n",
            " [1 1]\n",
            " [1 0]\n",
            " [0 0]\n",
            " [0 0]\n",
            " [1 1]\n",
            " [1 1]\n",
            " [0 0]\n",
            " [1 1]\n",
            " [0 1]\n",
            " [0 0]\n",
            " [0 0]\n",
            " [1 1]\n",
            " [0 0]\n",
            " [0 0]\n",
            " [0 0]\n",
            " [0 1]\n",
            " [0 0]\n",
            " [0 1]\n",
            " [1 1]\n",
            " [1 1]]\n"
          ]
        }
      ]
    },
    {
      "cell_type": "code",
      "source": [
        "acc = classifier.score(X_test,y_test)\n",
        "acc"
      ],
      "metadata": {
        "colab": {
          "base_uri": "https://localhost:8080/"
        },
        "id": "7wlWL33FQsI1",
        "outputId": "6d4d29af-d1b9-44d2-ea2c-190cc6b552c1"
      },
      "execution_count": null,
      "outputs": [
        {
          "output_type": "execute_result",
          "data": {
            "text/plain": [
              "0.89"
            ]
          },
          "metadata": {},
          "execution_count": 10
        }
      ]
    },
    {
      "cell_type": "code",
      "source": [
        "from sklearn.metrics import confusion_matrix\n",
        "import seaborn as sns\n",
        "cm = confusion_matrix(y_test,y_pred)\n",
        "sns.heatmap(cm,annot= True)"
      ],
      "metadata": {
        "colab": {
          "base_uri": "https://localhost:8080/",
          "height": 447
        },
        "id": "dbwxVE9xQydt",
        "outputId": "760a4df4-5480-43d7-d730-46ada6a45e81"
      },
      "execution_count": null,
      "outputs": [
        {
          "output_type": "execute_result",
          "data": {
            "text/plain": [
              "<Axes: >"
            ]
          },
          "metadata": {},
          "execution_count": 15
        },
        {
          "output_type": "display_data",
          "data": {
            "text/plain": [
              "<Figure size 640x480 with 2 Axes>"
            ],
            "image/png": "[encoded data removed]"
          },
          "metadata": {}
        }
      ]
    },
    {
      "cell_type": "code",
      "source": [
        "from sklearn.metrics import log_loss\n",
        "log_loss(y_test,y_pred)"
      ],
      "metadata": {
        "colab": {
          "base_uri": "https://localhost:8080/"
        },
        "id": "rlTzUalTRVM-",
        "outputId": "3f71ea3a-3d07-418d-d18f-df97b1f88c8b"
      },
      "execution_count": null,
      "outputs": [
        {
          "output_type": "execute_result",
          "data": {
            "text/plain": [
              "3.9648018728028864"
            ]
          },
          "metadata": {},
          "execution_count": 12
        }
      ]
    },
    {
      "cell_type": "code",
      "source": [
        "from sklearn.metrics import classification_report\n",
        "print(classification_report(y_test,y_pred))"
      ],
      "metadata": {
        "colab": {
          "base_uri": "https://localhost:8080/"
        },
        "id": "Cv1YF160RfGN",
        "outputId": "84cbbcef-4ef6-48cc-dcf0-5f6112e4586d"
      },
      "execution_count": null,
      "outputs": [
        {
          "output_type": "stream",
          "name": "stdout",
          "text": [
            "              precision    recall  f1-score   support\n",
            "\n",
            "           0       0.89      0.96      0.92        68\n",
            "           1       0.89      0.75      0.81        32\n",
            "\n",
            "    accuracy                           0.89       100\n",
            "   macro avg       0.89      0.85      0.87       100\n",
            "weighted avg       0.89      0.89      0.89       100\n",
            "\n"
          ]
        }
      ]
    },
    {
      "cell_type": "code",
      "source": [],
      "metadata": {
        "id": "7iWYVAowSPmc"
      },
      "execution_count": null,
      "outputs": []
    }
  ]
}