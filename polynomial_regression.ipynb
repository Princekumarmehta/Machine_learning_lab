{
  "nbformat": 4,
  "nbformat_minor": 0,
  "metadata": {
    "colab": {
      "provenance": [],
      "authorship_tag": "ABX9TyMH7KMs4+EfEfbFbI8uNUwm",
      "include_colab_link": true
    },
    "kernelspec": {
      "name": "python3",
      "display_name": "Python 3"
    },
    "language_info": {
      "name": "python"
    }
  },
  "cells": [
    {
      "cell_type": "markdown",
      "metadata": {
        "id": "view-in-github",
        "colab_type": "text"
      },
      "source": [
        "<a href=\"https://colab.research.google.com/github/Princekumarmehta/Machine_learning_lab/blob/main/polynomial_regression.ipynb\" target=\"_parent\"><img src=\"https://colab.research.google.com/assets/colab-badge.svg\" alt=\"Open In Colab\"/></a>"
      ]
    },
    {
      "cell_type": "code",
      "execution_count": null,
      "metadata": {
        "id": "a4_vhELwGpf-"
      },
      "outputs": [],
      "source": [
        "#import libraries\n",
        "import numpy as np\n",
        "import pandas as pd\n",
        "import matplotlib.pyplot as plt"
      ]
    },
    {
      "cell_type": "code",
      "source": [
        "X=6*np.random.rand(100,1)-3\n",
        "y=0.5*X**2+1.5*X+2+np.random.randn(100,1)"
      ],
      "metadata": {
        "id": "qnPoLu-gIKSt"
      },
      "execution_count": null,
      "outputs": []
    },
    {
      "cell_type": "code",
      "source": [
        "plt.scatter(X,y,color='g')\n",
        "plt.xlabel('X dataset')\n",
        "plt.ylabel('Y dataset')\n"
      ],
      "metadata": {
        "colab": {
          "base_uri": "https://localhost:8080/",
          "height": 466
        },
        "id": "wTNiHKmmIdi_",
        "outputId": "0cc1f49f-907f-43b6-a269-0fc2d24ed1a2"
      },
      "execution_count": null,
      "outputs": [
        {
          "output_type": "execute_result",
          "data": {
            "text/plain": [
              "Text(0, 0.5, 'Y dataset')"
            ]
          },
          "metadata": {},
          "execution_count": 6
        },
        {
          "output_type": "display_data",
          "data": {
            "text/plain": [
              "<Figure size 640x480 with 1 Axes>"
            ],
            "image/png": "[encoded data removed]"
          },
          "metadata": {}
        }
      ]
    },
    {
      "cell_type": "code",
      "source": [
        "from sklearn.model_selection import train_test_split\n",
        "x_train,x_test,y_train,y_test=train_test_split(X,y,test_size=0.2,random_state=42)"
      ],
      "metadata": {
        "id": "CM0KXasfJ6qs"
      },
      "execution_count": null,
      "outputs": []
    },
    {
      "cell_type": "code",
      "source": [
        "#Lets implement simple linear prohression\n",
        "from sklearn.linear_model import LinearRegression\n",
        "regression_1=LinearRegression()\n",
        "regression_1.fit(x_train,y_train)"
      ],
      "metadata": {
        "colab": {
          "base_uri": "https://localhost:8080/",
          "height": 75
        },
        "id": "FzbUKw1OKXVs",
        "outputId": "e60fa6f1-2343-4531-cc67-e0927c3835d8"
      },
      "execution_count": null,
      "outputs": [
        {
          "output_type": "execute_result",
          "data": {
            "text/plain": [
              "LinearRegression()"
            ],
            "text/html": [
              "<style>#sk-container-id-1 {color: black;background-color: white;}#sk-container-id-1 pre{padding: 0;}#sk-container-id-1 div.sk-toggleable {background-color: white;}#sk-container-id-1 label.sk-toggleable__label {cursor: pointer;display: block;width: 100%;margin-bottom: 0;padding: 0.3em;box-sizing: border-box;text-align: center;}#sk-container-id-1 label.sk-toggleable__label-arrow:before {content: \"▸\";float: left;margin-right: 0.25em;color: #696969;}#sk-container-id-1 label.sk-toggleable__label-arrow:hover:before {color: black;}#sk-container-id-1 div.sk-estimator:hover label.sk-toggleable__label-arrow:before {color: black;}#sk-container-id-1 div.sk-toggleable__content {max-height: 0;max-width: 0;overflow: hidden;text-align: left;background-color: #f0f8ff;}#sk-container-id-1 div.sk-toggleable__content pre {margin: 0.2em;color: black;border-radius: 0.25em;background-color: #f0f8ff;}#sk-container-id-1 input.sk-toggleable__control:checked~div.sk-toggleable__content {max-height: 200px;max-width: 100%;overflow: auto;}#sk-container-id-1 input.sk-toggleable__control:checked~label.sk-toggleable__label-arrow:before {content: \"▾\";}#sk-container-id-1 div.sk-estimator input.sk-toggleable__control:checked~label.sk-toggleable__label {background-color: #d4ebff;}#sk-container-id-1 div.sk-label input.sk-toggleable__control:checked~label.sk-toggleable__label {background-color: #d4ebff;}#sk-container-id-1 input.sk-hidden--visually {border: 0;clip: rect(1px 1px 1px 1px);clip: rect(1px, 1px, 1px, 1px);height: 1px;margin: -1px;overflow: hidden;padding: 0;position: absolute;width: 1px;}#sk-container-id-1 div.sk-estimator {font-family: monospace;background-color: #f0f8ff;border: 1px dotted black;border-radius: 0.25em;box-sizing: border-box;margin-bottom: 0.5em;}#sk-container-id-1 div.sk-estimator:hover {background-color: #d4ebff;}#sk-container-id-1 div.sk-parallel-item::after {content: \"\";width: 100%;border-bottom: 1px solid gray;flex-grow: 1;}#sk-container-id-1 div.sk-label:hover label.sk-toggleable__label {background-color: #d4ebff;}#sk-container-id-1 div.sk-serial::before {content: \"\";position: absolute;border-left: 1px solid gray;box-sizing: border-box;top: 0;bottom: 0;left: 50%;z-index: 0;}#sk-container-id-1 div.sk-serial {display: flex;flex-direction: column;align-items: center;background-color: white;padding-right: 0.2em;padding-left: 0.2em;position: relative;}#sk-container-id-1 div.sk-item {position: relative;z-index: 1;}#sk-container-id-1 div.sk-parallel {display: flex;align-items: stretch;justify-content: center;background-color: white;position: relative;}#sk-container-id-1 div.sk-item::before, #sk-container-id-1 div.sk-parallel-item::before {content: \"\";position: absolute;border-left: 1px solid gray;box-sizing: border-box;top: 0;bottom: 0;left: 50%;z-index: -1;}#sk-container-id-1 div.sk-parallel-item {display: flex;flex-direction: column;z-index: 1;position: relative;background-color: white;}#sk-container-id-1 div.sk-parallel-item:first-child::after {align-self: flex-end;width: 50%;}#sk-container-id-1 div.sk-parallel-item:last-child::after {align-self: flex-start;width: 50%;}#sk-container-id-1 div.sk-parallel-item:only-child::after {width: 0;}#sk-container-id-1 div.sk-dashed-wrapped {border: 1px dashed gray;margin: 0 0.4em 0.5em 0.4em;box-sizing: border-box;padding-bottom: 0.4em;background-color: white;}#sk-container-id-1 div.sk-label label {font-family: monospace;font-weight: bold;display: inline-block;line-height: 1.2em;}#sk-container-id-1 div.sk-label-container {text-align: center;}#sk-container-id-1 div.sk-container {/* jupyter's `normalize.less` sets `[hidden] { display: none; }` but bootstrap.min.css set `[hidden] { display: none !important; }` so we also need the `!important` here to be able to override the default hidden behavior on the sphinx rendered scikit-learn.org. See: https://github.com/scikit-learn/scikit-learn/issues/21755 */display: inline-block !important;position: relative;}#sk-container-id-1 div.sk-text-repr-fallback {display: none;}</style><div id=\"sk-container-id-1\" class=\"sk-top-container\"><div class=\"sk-text-repr-fallback\"><pre>LinearRegression()</pre><b>In a Jupyter environment, please rerun this cell to show the HTML representation or trust the notebook. <br />On GitHub, the HTML representation is unable to render, please try loading this page with nbviewer.org.</b></div><div class=\"sk-container\" hidden><div class=\"sk-item\"><div class=\"sk-estimator sk-toggleable\"><input class=\"sk-toggleable__control sk-hidden--visually\" id=\"sk-estimator-id-1\" type=\"checkbox\" checked><label for=\"sk-estimator-id-1\" class=\"sk-toggleable__label sk-toggleable__label-arrow\">LinearRegression</label><div class=\"sk-toggleable__content\"><pre>LinearRegression()</pre></div></div></div></div></div>"
            ]
          },
          "metadata": {},
          "execution_count": 8
        }
      ]
    },
    {
      "cell_type": "code",
      "source": [
        "from sklearn.metrics import r2_score\n",
        "score=r2_score(y_test,regression_1.predict(x_test))\n",
        "print(score)"
      ],
      "metadata": {
        "colab": {
          "base_uri": "https://localhost:8080/"
        },
        "id": "ft7fwXEGLCHj",
        "outputId": "677fd1fe-32a2-4b84-f356-cf1d671d92b0"
      },
      "execution_count": null,
      "outputs": [
        {
          "output_type": "stream",
          "name": "stdout",
          "text": [
            "0.7672783359314426\n"
          ]
        }
      ]
    },
    {
      "cell_type": "code",
      "source": [
        "#visualise\n",
        "plt.plot(x_train,regression_1.predict(x_train),color='r')\n",
        "plt.scatter(x_train,y_train)\n",
        "plt.xlabel(\"X dataset\")\n",
        "plt.ylabel(\"Y dataset\")"
      ],
      "metadata": {
        "colab": {
          "base_uri": "https://localhost:8080/",
          "height": 466
        },
        "id": "0lVNU_m7La1q",
        "outputId": "c5de9aba-7291-455f-8f5d-3f8b2246810e"
      },
      "execution_count": null,
      "outputs": [
        {
          "output_type": "execute_result",
          "data": {
            "text/plain": [
              "Text(0, 0.5, 'Y dataset')"
            ]
          },
          "metadata": {},
          "execution_count": 11
        },
        {
          "output_type": "display_data",
          "data": {
            "text/plain": [
              "<Figure size 640x480 with 1 Axes>"
            ],
            "image/png": "[encoded data removed]"
          },
          "metadata": {}
        }
      ]
    },
    {
      "cell_type": "code",
      "source": [
        "#lets apply polynomial tranformatin\n",
        "from sklearn.preprocessing import PolynomialFeatures\n",
        "poly=PolynomialFeatures(degree=15,include_bias=True)\n",
        "x_train_poly=poly.fit_transform(x_train)\n",
        "x_test_poly=poly.transform(x_test)\n"
      ],
      "metadata": {
        "id": "6ZyTQaFHLzM7"
      },
      "execution_count": null,
      "outputs": []
    },
    {
      "cell_type": "code",
      "source": [
        "x_train_poly"
      ],
      "metadata": {
        "colab": {
          "base_uri": "https://localhost:8080/"
        },
        "id": "spsOSBF3MvGq",
        "outputId": "b7dadecd-0760-4379-88c6-ce936dcc085f"
      },
      "execution_count": null,
      "outputs": [
        {
          "output_type": "execute_result",
          "data": {
            "text/plain": [
              "array([[ 1.00000000e+00, -1.34967348e+00,  1.82161851e+00],\n",
              "       [ 1.00000000e+00, -2.76040925e+00,  7.61985924e+00],\n",
              "       [ 1.00000000e+00,  1.54415832e+00,  2.38442491e+00],\n",
              "       [ 1.00000000e+00,  2.08674751e-03,  4.35451515e-06],\n",
              "       [ 1.00000000e+00, -1.63629386e+00,  2.67745761e+00],\n",
              "       [ 1.00000000e+00, -1.43034944e+00,  2.04589952e+00],\n",
              "       [ 1.00000000e+00, -2.67492519e+00,  7.15522480e+00],\n",
              "       [ 1.00000000e+00,  2.91979321e+00,  8.52519241e+00],\n",
              "       [ 1.00000000e+00,  2.30715620e+00,  5.32296972e+00],\n",
              "       [ 1.00000000e+00,  1.49587592e+00,  2.23764476e+00],\n",
              "       [ 1.00000000e+00,  1.14863757e+00,  1.31936827e+00],\n",
              "       [ 1.00000000e+00, -1.28779654e+00,  1.65841993e+00],\n",
              "       [ 1.00000000e+00,  2.76563683e+00,  7.64874710e+00],\n",
              "       [ 1.00000000e+00, -2.05164520e+00,  4.20924803e+00],\n",
              "       [ 1.00000000e+00, -1.60123639e-01,  2.56395797e-02],\n",
              "       [ 1.00000000e+00,  4.12276543e-02,  1.69971948e-03],\n",
              "       [ 1.00000000e+00,  8.39139125e-01,  7.04154471e-01],\n",
              "       [ 1.00000000e+00,  2.39914471e+00,  5.75589536e+00],\n",
              "       [ 1.00000000e+00, -2.65948314e-01,  7.07285060e-02],\n",
              "       [ 1.00000000e+00, -1.18812784e+00,  1.41164776e+00],\n",
              "       [ 1.00000000e+00, -2.38569814e+00,  5.69155563e+00],\n",
              "       [ 1.00000000e+00,  2.09004395e+00,  4.36828372e+00],\n",
              "       [ 1.00000000e+00, -2.03118009e+00,  4.12569256e+00],\n",
              "       [ 1.00000000e+00, -1.23587850e+00,  1.52739568e+00],\n",
              "       [ 1.00000000e+00, -1.14295144e+00,  1.30633800e+00],\n",
              "       [ 1.00000000e+00,  2.76530847e+00,  7.64693093e+00],\n",
              "       [ 1.00000000e+00, -3.49477026e-01,  1.22134192e-01],\n",
              "       [ 1.00000000e+00, -1.17529793e-01,  1.38132523e-02],\n",
              "       [ 1.00000000e+00,  2.68951994e-01,  7.23351753e-02],\n",
              "       [ 1.00000000e+00,  1.78539855e+00,  3.18764797e+00],\n",
              "       [ 1.00000000e+00,  1.63378360e+00,  2.66924884e+00],\n",
              "       [ 1.00000000e+00,  7.09506093e-01,  5.03398896e-01],\n",
              "       [ 1.00000000e+00,  1.48795129e+00,  2.21399904e+00],\n",
              "       [ 1.00000000e+00,  4.94078412e-01,  2.44113477e-01],\n",
              "       [ 1.00000000e+00,  1.55057746e+00,  2.40429046e+00],\n",
              "       [ 1.00000000e+00,  2.56478631e+00,  6.57812884e+00],\n",
              "       [ 1.00000000e+00,  3.68107766e-01,  1.35503328e-01],\n",
              "       [ 1.00000000e+00,  7.68294471e-02,  5.90276394e-03],\n",
              "       [ 1.00000000e+00, -1.13460724e-01,  1.28733358e-02],\n",
              "       [ 1.00000000e+00,  2.37982580e+00,  5.66357083e+00],\n",
              "       [ 1.00000000e+00, -8.84551653e-01,  7.82431627e-01],\n",
              "       [ 1.00000000e+00,  2.39834643e-01,  5.75206558e-02],\n",
              "       [ 1.00000000e+00, -1.21237315e+00,  1.46984865e+00],\n",
              "       [ 1.00000000e+00,  9.12207296e-02,  8.32122151e-03],\n",
              "       [ 1.00000000e+00, -7.01406465e-01,  4.91971029e-01],\n",
              "       [ 1.00000000e+00,  1.12896267e+00,  1.27455672e+00],\n",
              "       [ 1.00000000e+00,  1.12350398e-01,  1.26226120e-02],\n",
              "       [ 1.00000000e+00,  1.22679855e+00,  1.50503468e+00],\n",
              "       [ 1.00000000e+00,  1.59125737e+00,  2.53210000e+00],\n",
              "       [ 1.00000000e+00,  2.72977137e+00,  7.45165171e+00],\n",
              "       [ 1.00000000e+00, -7.15095883e-01,  5.11362122e-01],\n",
              "       [ 1.00000000e+00, -2.15414671e-01,  4.64034805e-02],\n",
              "       [ 1.00000000e+00,  2.85065297e+00,  8.12622237e+00],\n",
              "       [ 1.00000000e+00,  1.71244073e-01,  2.93245325e-02],\n",
              "       [ 1.00000000e+00,  2.08675825e+00,  4.35455999e+00],\n",
              "       [ 1.00000000e+00, -8.70306440e-01,  7.57433300e-01],\n",
              "       [ 1.00000000e+00, -1.00566732e-01,  1.01136676e-02],\n",
              "       [ 1.00000000e+00, -1.67521106e+00,  2.80633210e+00],\n",
              "       [ 1.00000000e+00,  1.62421518e+00,  2.63807496e+00],\n",
              "       [ 1.00000000e+00, -1.57388740e+00,  2.47712153e+00],\n",
              "       [ 1.00000000e+00, -8.43745122e-01,  7.11905830e-01],\n",
              "       [ 1.00000000e+00,  2.98023965e+00,  8.88182836e+00],\n",
              "       [ 1.00000000e+00,  1.40892604e-01,  1.98507257e-02],\n",
              "       [ 1.00000000e+00, -7.34775409e-01,  5.39894902e-01],\n",
              "       [ 1.00000000e+00,  2.41823473e+00,  5.84785919e+00],\n",
              "       [ 1.00000000e+00,  2.20528094e+00,  4.86326402e+00],\n",
              "       [ 1.00000000e+00, -1.08674957e+00,  1.18102463e+00],\n",
              "       [ 1.00000000e+00,  7.06993689e-02,  4.99840077e-03],\n",
              "       [ 1.00000000e+00,  2.47927293e+00,  6.14679424e+00],\n",
              "       [ 1.00000000e+00,  6.08452461e-01,  3.70214398e-01],\n",
              "       [ 1.00000000e+00, -2.73255007e-01,  7.46682991e-02],\n",
              "       [ 1.00000000e+00, -1.98342526e+00,  3.93397575e+00],\n",
              "       [ 1.00000000e+00,  8.10197184e-01,  6.56419476e-01],\n",
              "       [ 1.00000000e+00, -2.34360246e+00,  5.49247251e+00],\n",
              "       [ 1.00000000e+00,  2.12070209e+00,  4.49737734e+00],\n",
              "       [ 1.00000000e+00,  4.76172537e-01,  2.26740285e-01],\n",
              "       [ 1.00000000e+00,  2.30988934e+00,  5.33558875e+00],\n",
              "       [ 1.00000000e+00,  2.43689790e+00,  5.93847138e+00],\n",
              "       [ 1.00000000e+00, -1.38606398e+00,  1.92117336e+00],\n",
              "       [ 1.00000000e+00, -1.97449373e+00,  3.89862550e+00]])"
            ]
          },
          "metadata": {},
          "execution_count": 20
        }
      ]
    },
    {
      "cell_type": "code",
      "source": [
        "x_test_poly"
      ],
      "metadata": {
        "colab": {
          "base_uri": "https://localhost:8080/"
        },
        "id": "i1kRqKmHMy06",
        "outputId": "bbb9159a-4920-4fed-9501-46d29e4f3533"
      },
      "execution_count": null,
      "outputs": [
        {
          "output_type": "execute_result",
          "data": {
            "text/plain": [
              "array([[ 1.00000000e+00,  1.54793619e+00,  2.39610646e+00],\n",
              "       [ 1.00000000e+00,  2.67881157e-01,  7.17603145e-02],\n",
              "       [ 1.00000000e+00,  1.61627465e+00,  2.61234375e+00],\n",
              "       [ 1.00000000e+00,  1.78446279e+00,  3.18430744e+00],\n",
              "       [ 1.00000000e+00,  1.64458119e+00,  2.70464728e+00],\n",
              "       [ 1.00000000e+00, -1.77007011e+00,  3.13314820e+00],\n",
              "       [ 1.00000000e+00,  2.36066484e+00,  5.57273848e+00],\n",
              "       [ 1.00000000e+00, -1.12824726e+00,  1.27294187e+00],\n",
              "       [ 1.00000000e+00, -3.75190845e-01,  1.40768170e-01],\n",
              "       [ 1.00000000e+00,  2.96970437e+00,  8.81914406e+00],\n",
              "       [ 1.00000000e+00, -2.09107088e+00,  4.37257744e+00],\n",
              "       [ 1.00000000e+00, -2.23155872e+00,  4.97985433e+00],\n",
              "       [ 1.00000000e+00,  2.97116274e+00,  8.82780804e+00],\n",
              "       [ 1.00000000e+00,  2.61096287e+00,  6.81712708e+00],\n",
              "       [ 1.00000000e+00, -2.00094884e+00,  4.00379625e+00],\n",
              "       [ 1.00000000e+00,  7.18294751e-01,  5.15947350e-01],\n",
              "       [ 1.00000000e+00,  2.71750023e+00,  7.38480750e+00],\n",
              "       [ 1.00000000e+00, -1.89134006e+00,  3.57716722e+00],\n",
              "       [ 1.00000000e+00, -2.07860979e+00,  4.32061867e+00],\n",
              "       [ 1.00000000e+00,  3.16783694e-02,  1.00351909e-03]])"
            ]
          },
          "metadata": {},
          "execution_count": 21
        }
      ]
    },
    {
      "cell_type": "code",
      "source": [
        "from sklearn.metrics import r2_score\n",
        "regression=LinearRegression()\n",
        "regression.fit(x_train_poly,y_train)\n",
        "y_pred=regression.predict(x_train_poly)\n",
        "score=r2_score(y_train,y_pred)\n",
        "print(score)\n"
      ],
      "metadata": {
        "colab": {
          "base_uri": "https://localhost:8080/"
        },
        "id": "_8N28MzlM126",
        "outputId": "f835db7c-d3b6-4e27-d8cb-9e01c3e74b39"
      },
      "execution_count": null,
      "outputs": [
        {
          "output_type": "stream",
          "name": "stdout",
          "text": [
            "0.9433105382334334\n"
          ]
        }
      ]
    },
    {
      "cell_type": "code",
      "source": [
        "print(regression.coef_)"
      ],
      "metadata": {
        "colab": {
          "base_uri": "https://localhost:8080/"
        },
        "id": "yoou15qdNbeq",
        "outputId": "3bb633d7-decb-48fe-942d-f92b375e84c5"
      },
      "execution_count": null,
      "outputs": [
        {
          "output_type": "stream",
          "name": "stdout",
          "text": [
            "[[0.         1.50349181 0.52896505]]\n"
          ]
        }
      ]
    },
    {
      "cell_type": "code",
      "source": [
        "print(regression.intercept_)"
      ],
      "metadata": {
        "colab": {
          "base_uri": "https://localhost:8080/"
        },
        "id": "pMQJ8BoiNe65",
        "outputId": "9c1ac0a8-db32-409c-fd80-08aaf5cfa845"
      },
      "execution_count": null,
      "outputs": [
        {
          "output_type": "stream",
          "name": "stdout",
          "text": [
            "[2.02487919]\n"
          ]
        }
      ]
    },
    {
      "cell_type": "code",
      "source": [
        "plt.scatter(x_train,regression.predict(x_train_poly))\n",
        "plt.scatter(x_train,y_train)"
      ],
      "metadata": {
        "colab": {
          "base_uri": "https://localhost:8080/",
          "height": 447
        },
        "id": "TpyT65oyNikI",
        "outputId": "96ae3b6c-efd8-4ed5-845f-5d07d27771a7"
      },
      "execution_count": null,
      "outputs": [
        {
          "output_type": "execute_result",
          "data": {
            "text/plain": [
              "<matplotlib.collections.PathCollection at 0x7f845137cca0>"
            ]
          },
          "metadata": {},
          "execution_count": 31
        },
        {
          "output_type": "display_data",
          "data": {
            "text/plain": [
              "<Figure size 640x480 with 1 Axes>"
            ],
            "image/png": "[encoded data removed]"
          },
          "metadata": {}
        }
      ]
    }
  ]
}