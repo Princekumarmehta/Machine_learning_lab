{
  "nbformat": 4,
  "nbformat_minor": 0,
  "metadata": {
    "colab": {
      "provenance": [],
      "include_colab_link": true
    },
    "kernelspec": {
      "name": "python3",
      "display_name": "Python 3"
    },
    "language_info": {
      "name": "python"
    }
  },
  "cells": [
    {
      "cell_type": "markdown",
      "metadata": {
        "id": "view-in-github",
        "colab_type": "text"
      },
      "source": [
        "<a href=\"https://colab.research.google.com/github/Princekumarmehta/Machine_learning_lab/blob/main/Numpy.ipynb\" target=\"_parent\"><img src=\"https://colab.research.google.com/assets/colab-badge.svg\" alt=\"Open In Colab\"/></a>"
      ]
    },
    {
      "cell_type": "code",
      "execution_count": null,
      "metadata": {
        "id": "Uv1USpcqGWlg"
      },
      "outputs": [],
      "source": [
        "import numpy as np"
      ]
    },
    {
      "cell_type": "code",
      "source": [
        "list=[1,2,3,4]\n",
        "a=np.array(list)\n",
        "print(type(a))\n",
        "print(a)"
      ],
      "metadata": {
        "colab": {
          "base_uri": "https://localhost:8080/"
        },
        "id": "a45XyOgPGcNS",
        "outputId": "69e2607b-ba9e-42ce-8e15-0b5bfd5ad9c4"
      },
      "execution_count": null,
      "outputs": [
        {
          "output_type": "stream",
          "name": "stdout",
          "text": [
            "<class 'numpy.ndarray'>\n",
            "[1 2 3 4]\n"
          ]
        }
      ]
    },
    {
      "cell_type": "code",
      "source": [
        "list1=[[1,2,3,4],[3,4,5,6]]\n",
        "p=np.array(list1)"
      ],
      "metadata": {
        "id": "tIn0NAe-IRXB"
      },
      "execution_count": null,
      "outputs": []
    },
    {
      "cell_type": "code",
      "source": [
        "p"
      ],
      "metadata": {
        "colab": {
          "base_uri": "https://localhost:8080/"
        },
        "id": "_lfzNwI3Ian6",
        "outputId": "9b4ed180-384c-4fe6-fe97-e41d5063a0c5"
      },
      "execution_count": null,
      "outputs": [
        {
          "output_type": "execute_result",
          "data": {
            "text/plain": [
              "array([[1, 2, 3, 4],\n",
              "       [3, 4, 5, 6]])"
            ]
          },
          "metadata": {},
          "execution_count": 4
        }
      ]
    },
    {
      "cell_type": "code",
      "source": [
        "a=np.add(5,4)\n",
        "a"
      ],
      "metadata": {
        "colab": {
          "base_uri": "https://localhost:8080/"
        },
        "id": "GaWsyAxoIJra",
        "outputId": "cfc9a4ae-e882-4aaf-fabc-5b03fa85877f"
      },
      "execution_count": null,
      "outputs": [
        {
          "output_type": "execute_result",
          "data": {
            "text/plain": [
              "9"
            ]
          },
          "metadata": {},
          "execution_count": 5
        }
      ]
    },
    {
      "cell_type": "code",
      "source": [
        "a=np.zeros((4,5),dtype=int)\n",
        "a"
      ],
      "metadata": {
        "colab": {
          "base_uri": "https://localhost:8080/"
        },
        "id": "63OYXQ09JJNi",
        "outputId": "dea1f917-bc72-4259-c046-8298363ff8ea"
      },
      "execution_count": null,
      "outputs": [
        {
          "output_type": "execute_result",
          "data": {
            "text/plain": [
              "array([[0, 0, 0, 0, 0],\n",
              "       [0, 0, 0, 0, 0],\n",
              "       [0, 0, 0, 0, 0],\n",
              "       [0, 0, 0, 0, 0]])"
            ]
          },
          "metadata": {},
          "execution_count": 6
        }
      ]
    },
    {
      "cell_type": "code",
      "source": [
        "x=np.ones((3,4))\n",
        "x"
      ],
      "metadata": {
        "colab": {
          "base_uri": "https://localhost:8080/"
        },
        "id": "_X8xtKj2JXIy",
        "outputId": "9e524483-de46-40c4-bd9e-48ac7d8e0b57"
      },
      "execution_count": null,
      "outputs": [
        {
          "output_type": "execute_result",
          "data": {
            "text/plain": [
              "array([[1., 1., 1., 1.],\n",
              "       [1., 1., 1., 1.],\n",
              "       [1., 1., 1., 1.]])"
            ]
          },
          "metadata": {},
          "execution_count": 7
        }
      ]
    },
    {
      "cell_type": "code",
      "source": [
        "x=np.full((4,5),8)"
      ],
      "metadata": {
        "id": "T2a1k8sOJfOq"
      },
      "execution_count": null,
      "outputs": []
    },
    {
      "cell_type": "code",
      "source": [
        "x"
      ],
      "metadata": {
        "colab": {
          "base_uri": "https://localhost:8080/"
        },
        "id": "Oy6cG8J0Jkra",
        "outputId": "11edbb96-e616-4c21-9338-9f68f654a261"
      },
      "execution_count": null,
      "outputs": [
        {
          "output_type": "execute_result",
          "data": {
            "text/plain": [
              "array([[8, 8, 8, 8, 8],\n",
              "       [8, 8, 8, 8, 8],\n",
              "       [8, 8, 8, 8, 8],\n",
              "       [8, 8, 8, 8, 8]])"
            ]
          },
          "metadata": {},
          "execution_count": 9
        }
      ]
    },
    {
      "cell_type": "code",
      "source": [
        "# create a numpy array with random values\n",
        "b = np.random.randint(10,15,(3,4))\n",
        "print(b)"
      ],
      "metadata": {
        "colab": {
          "base_uri": "https://localhost:8080/"
        },
        "id": "a5pXxSqkJwTy",
        "outputId": "621538c8-3937-4e3a-b8bf-78976f8e3fb9"
      },
      "execution_count": null,
      "outputs": [
        {
          "output_type": "stream",
          "name": "stdout",
          "text": [
            "[[11 12 13 11]\n",
            " [12 10 10 12]\n",
            " [14 13 12 12]]\n"
          ]
        }
      ]
    },
    {
      "cell_type": "code",
      "source": [
        "# create a numpy array with random values\n",
        "b = np.random.random((3,4))\n",
        "print(b)"
      ],
      "metadata": {
        "colab": {
          "base_uri": "https://localhost:8080/"
        },
        "id": "4cISoqrfK0Ay",
        "outputId": "db7deac3-46f1-4924-c778-a053e6a9500a"
      },
      "execution_count": null,
      "outputs": [
        {
          "output_type": "stream",
          "name": "stdout",
          "text": [
            "[[0.96141423 0.38363762 0.53033709 0.65717312]\n",
            " [0.89287062 0.86300473 0.24744512 0.85984372]\n",
            " [0.84555234 0.84593172 0.68421799 0.19542655]]\n"
          ]
        }
      ]
    },
    {
      "cell_type": "code",
      "source": [
        "n=20\n",
        "p=4\n",
        "q=5\n",
        "ar=np.arange(n).reshape(p,q)\n",
        "ar"
      ],
      "metadata": {
        "colab": {
          "base_uri": "https://localhost:8080/"
        },
        "id": "RSsdQsEGL_Id",
        "outputId": "04b89e88-df19-4d1f-8ce8-b4b086d3465c"
      },
      "execution_count": null,
      "outputs": [
        {
          "output_type": "execute_result",
          "data": {
            "text/plain": [
              "array([[ 0,  1,  2,  3,  4],\n",
              "       [ 5,  6,  7,  8,  9],\n",
              "       [10, 11, 12, 13, 14],\n",
              "       [15, 16, 17, 18, 19]])"
            ]
          },
          "metadata": {},
          "execution_count": 12
        }
      ]
    },
    {
      "cell_type": "code",
      "source": [
        "n=25\n",
        "p=5\n",
        "q=5\n",
        "ar=np.arange(n).reshape(p,q)\n",
        "ar\n"
      ],
      "metadata": {
        "colab": {
          "base_uri": "https://localhost:8080/"
        },
        "id": "nzDeDR04MKRS",
        "outputId": "3a80d693-5a58-47f5-bf92-1e7faa53e5b9"
      },
      "execution_count": null,
      "outputs": [
        {
          "output_type": "execute_result",
          "data": {
            "text/plain": [
              "array([[ 0,  1,  2,  3,  4],\n",
              "       [ 5,  6,  7,  8,  9],\n",
              "       [10, 11, 12, 13, 14],\n",
              "       [15, 16, 17, 18, 19],\n",
              "       [20, 21, 22, 23, 24]])"
            ]
          },
          "metadata": {},
          "execution_count": 13
        }
      ]
    },
    {
      "cell_type": "code",
      "source": [
        "ar[4]=[5,6,7,8,9]"
      ],
      "metadata": {
        "id": "xe1moNK7MtzM"
      },
      "execution_count": null,
      "outputs": []
    },
    {
      "cell_type": "code",
      "source": [
        "ar"
      ],
      "metadata": {
        "colab": {
          "base_uri": "https://localhost:8080/"
        },
        "id": "MOiHpgabM9yD",
        "outputId": "1bf110fe-b002-4a08-ddeb-8fce4683f391"
      },
      "execution_count": null,
      "outputs": [
        {
          "output_type": "execute_result",
          "data": {
            "text/plain": [
              "array([[ 0,  1,  2,  3,  4],\n",
              "       [ 5,  6,  7,  8,  9],\n",
              "       [10, 11, 12, 13, 14],\n",
              "       [15, 16, 17, 18, 19],\n",
              "       [ 5,  6,  7,  8,  9]])"
            ]
          },
          "metadata": {},
          "execution_count": 15
        }
      ]
    },
    {
      "cell_type": "code",
      "source": [
        "ar=np.random.randint(10,40,(4,5))\n",
        "ar"
      ],
      "metadata": {
        "colab": {
          "base_uri": "https://localhost:8080/"
        },
        "id": "4r7UBrcCM-lS",
        "outputId": "6b21f665-dd42-43f3-edaa-2bfcb0ae71b6"
      },
      "execution_count": null,
      "outputs": [
        {
          "output_type": "execute_result",
          "data": {
            "text/plain": [
              "array([[25, 35, 15, 11, 32],\n",
              "       [12, 12, 21, 25, 10],\n",
              "       [27, 27, 37, 32, 26],\n",
              "       [35, 26, 25, 17, 19]])"
            ]
          },
          "metadata": {},
          "execution_count": 16
        }
      ]
    },
    {
      "cell_type": "code",
      "source": [
        "ar=np.random.random((4,5))\n",
        "ar"
      ],
      "metadata": {
        "colab": {
          "base_uri": "https://localhost:8080/"
        },
        "id": "JbEifm3VN2db",
        "outputId": "dd86dd5f-b8e0-43b4-90ae-a2fc2f21f064"
      },
      "execution_count": null,
      "outputs": [
        {
          "output_type": "execute_result",
          "data": {
            "text/plain": [
              "array([[0.60242068, 0.26316507, 0.65398863, 0.77628193, 0.58914959],\n",
              "       [0.98534918, 0.0545028 , 0.95893664, 0.20080204, 0.68980207],\n",
              "       [0.01924745, 0.2394758 , 0.66258266, 0.24318433, 0.90767742],\n",
              "       [0.83982934, 0.9199112 , 0.10876887, 0.26182347, 0.88999603]])"
            ]
          },
          "metadata": {},
          "execution_count": 17
        }
      ]
    },
    {
      "cell_type": "code",
      "source": [
        "rows = int(input(\"Enter the number of rows: \"))\n",
        "cols = int(input(\"Enter the number of columns: \"))\n",
        "\n",
        "input_list = []\n",
        "\n",
        "for i in range(rows):\n",
        "    lister=[]\n",
        "    for j in range(cols):\n",
        "       lister.append(int(input(\"Enter the value\")))\n",
        "    input_list.append(lister)\n",
        "\n",
        "array_2d = np.array(input_list)\n",
        "\n",
        "print(\"2D Array:\")\n",
        "print(array_2d)"
      ],
      "metadata": {
        "id": "-1I4k-5lO6Mp",
        "colab": {
          "base_uri": "https://localhost:8080/"
        },
        "outputId": "dc366bbe-f348-4f51-fc6d-9593becb0e91"
      },
      "execution_count": null,
      "outputs": [
        {
          "output_type": "stream",
          "name": "stdout",
          "text": [
            "Enter the number of rows: 2\n",
            "Enter the number of columns: 2\n",
            "Enter the value1\n",
            "Enter the value2\n",
            "Enter the value3\n",
            "Enter the value4\n",
            "2D Array:6\n",
            "[[1 2]\n",
            " [3 4]]\n"
          ]
        }
      ]
    },
    {
      "cell_type": "code",
      "source": [
        "a=np.random.randint(10,30,(3,3))\n",
        "b=np.random.randint(10,30,(3,3))\n",
        "a\n"
      ],
      "metadata": {
        "id": "k6VO_odsTqZs",
        "colab": {
          "base_uri": "https://localhost:8080/"
        },
        "outputId": "288937da-9f15-4a54-b284-12c4f8b7bc90"
      },
      "execution_count": null,
      "outputs": [
        {
          "output_type": "execute_result",
          "data": {
            "text/plain": [
              "array([[23, 15, 13],\n",
              "       [16, 11, 10],\n",
              "       [22, 13, 24]])"
            ]
          },
          "metadata": {},
          "execution_count": 47
        }
      ]
    },
    {
      "cell_type": "code",
      "source": [
        "b"
      ],
      "metadata": {
        "colab": {
          "base_uri": "https://localhost:8080/"
        },
        "id": "zJzPDZ5OVYGS",
        "outputId": "c49ca5e0-1d92-429e-ae30-08acae58f108"
      },
      "execution_count": null,
      "outputs": [
        {
          "output_type": "execute_result",
          "data": {
            "text/plain": [
              "array([[29, 15, 22],\n",
              "       [12, 16, 15],\n",
              "       [20, 12, 28]])"
            ]
          },
          "metadata": {},
          "execution_count": 48
        }
      ]
    },
    {
      "cell_type": "code",
      "source": [
        "p=np.mod(a,b)\n",
        "p"
      ],
      "metadata": {
        "colab": {
          "base_uri": "https://localhost:8080/"
        },
        "id": "LiGb0UleVZwy",
        "outputId": "2a4f9204-a73b-477a-e29e-9da2d9e7b1cc"
      },
      "execution_count": null,
      "outputs": [
        {
          "output_type": "execute_result",
          "data": {
            "text/plain": [
              "array([[23,  0, 13],\n",
              "       [ 4, 11, 10],\n",
              "       [ 2,  1, 24]])"
            ]
          },
          "metadata": {},
          "execution_count": 52
        }
      ]
    },
    {
      "cell_type": "code",
      "source": [
        "a[0]=[23,23,23]\n",
        "print(a)\n",
        "print(np.unique(a))\n",
        "print(a)"
      ],
      "metadata": {
        "colab": {
          "base_uri": "https://localhost:8080/"
        },
        "id": "XpPWgg6FV1ay",
        "outputId": "8df5ce80-cbe1-4fcd-a7bc-9127e05ccad9"
      },
      "execution_count": null,
      "outputs": [
        {
          "output_type": "stream",
          "name": "stdout",
          "text": [
            "[[23 23 23]\n",
            " [16 11 10]\n",
            " [22 13 24]]\n",
            "[10 11 13 16 22 23 24]\n",
            "[[23 23 23]\n",
            " [16 11 10]\n",
            " [22 13 24]]\n"
          ]
        }
      ]
    }
  ]
}